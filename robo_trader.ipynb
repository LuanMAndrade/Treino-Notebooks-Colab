{
  "nbformat": 4,
  "nbformat_minor": 0,
  "metadata": {
    "colab": {
      "provenance": [],
      "authorship_tag": "ABX9TyOJe1pJ58k8rTaL5oIq7d8Y",
      "include_colab_link": true
    },
    "kernelspec": {
      "name": "python3",
      "display_name": "Python 3"
    },
    "language_info": {
      "name": "python"
    }
  },
  "cells": [
    {
      "cell_type": "markdown",
      "metadata": {
        "id": "view-in-github",
        "colab_type": "text"
      },
      "source": [
        "<a href=\"https://colab.research.google.com/github/LuanMAndrade/Treino-Notebooks-Colab/blob/main/robo_trader.ipynb\" target=\"_parent\"><img src=\"https://colab.research.google.com/assets/colab-badge.svg\" alt=\"Open In Colab\"/></a>"
      ]
    },
    {
      "cell_type": "code",
      "source": [
        "import numpy as np\n",
        "import tensorflow as tf\n",
        "from tensorflow import keras\n",
        "from tensorflow.keras import layers\n",
        "from tensorflow.keras import Sequential"
      ],
      "metadata": {
        "id": "ik7SLQAU6HBd"
      },
      "execution_count": null,
      "outputs": []
    },
    {
      "cell_type": "code",
      "source": [
        "input_size = 10\n",
        "rede_neural = Sequential([\n",
        "    tf.keras.layers.InputLayer(shape=(input_size,)),\n",
        "    tf.keras.layers.Dense(units=30, activation='relu', kernel_initializer= 'random_uniform' ),\n",
        "    tf.keras.layers.Dense(units=3, activation='softmax')\n",
        "])\n"
      ],
      "metadata": {
        "id": "lEJ_ZX-Sghfb"
      },
      "execution_count": null,
      "outputs": []
    },
    {
      "cell_type": "code",
      "source": [
        "optimizer = tf.keras.optimizers.Adam(learning_rate=0.001)"
      ],
      "metadata": {
        "id": "Pys_DnK8YiNN"
      },
      "execution_count": null,
      "outputs": []
    },
    {
      "cell_type": "code",
      "source": [
        "@tf.function\n",
        "def train_step(state, action_index, reward):\n",
        "    with tf.GradientTape() as tape:\n",
        "        q_values = rede_neural(state, training=True)  # shape (1,3)\n",
        "        q_value = q_values[0, action_index]          # valor da ação escolhida\n",
        "        loss = tf.square(reward - q_value)           # (r - Q(s,a))²\n",
        "\n",
        "    grads = tape.gradient(loss, rede_neural.trainable_variables)\n",
        "    optimizer.apply_gradients(zip(grads, rede_neural.trainable_variables))"
      ],
      "metadata": {
        "id": "V0LruR9QWizF"
      },
      "execution_count": null,
      "outputs": []
    },
    {
      "cell_type": "code",
      "source": [
        "state = np.random.randint(0,101,size=(1,10)) # Gera um estado aleatorio só para teste\n",
        "possible_actions = [-1, 0, 1] # Define as possiveis ações\n",
        "output = rede_neural.predict(state) # Toma a decisão, mas sai uma lista de probabilidades\n",
        "probs = output[0]  # tira o batch dimension\n",
        "action_index = np.random.choice([0, 1, 2], p=probs) # Escolhe um index baseado nas probabilidades\n",
        "action = possible_actions[action_index] # Retorna a ação do indice escolhido"
      ],
      "metadata": {
        "colab": {
          "base_uri": "https://localhost:8080/"
        },
        "id": "sU938MoU_czR",
        "outputId": "708d4bb0-b81b-44e5-e7bb-67f9dbc7d16e"
      },
      "execution_count": null,
      "outputs": [
        {
          "output_type": "stream",
          "name": "stdout",
          "text": [
            "\u001b[1m1/1\u001b[0m \u001b[32m━━━━━━━━━━━━━━━━━━━━\u001b[0m\u001b[37m\u001b[0m \u001b[1m0s\u001b[0m 38ms/step\n"
          ]
        }
      ]
    },
    {
      "cell_type": "code",
      "source": [
        "data = [np.random.rand(1, 10).astype(np.float32) for _ in range(1000)] # Gera um dataframe com 1000 estados, cada estado com 10 informações"
      ],
      "metadata": {
        "id": "Iyj4X3DkD2hu"
      },
      "execution_count": null,
      "outputs": []
    },
    {
      "cell_type": "code",
      "source": [
        "memory = []\n",
        "deslocamento = 0\n",
        "entradas = []\n",
        "for indice, i in enumerate(data):\n",
        "  output = rede_neural.predict(i, verbose=0) # Toma a decisão, mas sai uma lista de probabilidades\n",
        "  probs = output[0]  # tira o batch dimension\n",
        "  action_index = np.random.choice([0, 1, 2], p=probs) # Escolhe um index baseado nas probabilidades\n",
        "  action = possible_actions[action_index] # Retorna a ação do indice escolhido\n",
        "  memory.append((i[0],action))\n",
        "  if indice > 500 and action != 0:\n",
        "    entradas.append(indice)\n",
        "\n",
        "  if len(memory) > 100:\n",
        "    del memory[0]\n",
        "    for indice, valor in enumerate(memory):\n",
        "      if memory[0][0][0] - memory[indice][0][0] > 5:\n",
        "        deslocamento = -1\n",
        "        break\n",
        "      elif memory[indice][0][0] - memory[0][0][0] > 5:\n",
        "        deslocamento = 1\n",
        "        break\n",
        "      else: deslocamento = 0\n",
        "\n",
        "  x = action*deslocamento\n",
        "  if x>0:\n",
        "    reforco = 1\n",
        "  elif x<0:\n",
        "    reforco = -1\n",
        "  else: reforco = 0\n",
        "\n",
        "  i_tensor = tf.convert_to_tensor(i, dtype=tf.float32)\n",
        "  train_step(i_tensor, action_index, reforco)\n",
        "\n"
      ],
      "metadata": {
        "id": "MA6Jy2Kkgx1Y"
      },
      "execution_count": null,
      "outputs": []
    },
    {
      "cell_type": "code",
      "source": [],
      "metadata": {
        "id": "owXzOJWbdImh"
      },
      "execution_count": null,
      "outputs": []
    }
  ]
}